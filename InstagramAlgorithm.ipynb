{
 "cells": [
  {
   "cell_type": "markdown",
   "metadata": {},
   "source": [
    "Created by Mahdi Mashayekhi</br></br>\n",
    "Email : MahdiMashayekhi.ai@gmail.com</br>\n",
    "Github : https://github.com/MahdiMashayekhi-AI</br>\n",
    "Site : http://mahdimashayekhi.gigfa.com</br>\n",
    "YouTube : https://youtube.com/@MahdiMashayekhi</br>\n",
    "Twitter : https://twitter.com/Mashayekhi_AI</br>\n",
    "LinkedIn : https://www.linkedin.com/in/mahdimashayekhi/</br>"
   ]
  },
  {
   "cell_type": "markdown",
   "metadata": {},
   "source": [
    "Predicting the reach of Instagram posts is one of the most important tasks for every business that relies heavily on social media customers. So in such competition, it is very important to know how the Instagram algorithm works. In this article, Im going to walk you through an implementation of the Instagram algorithm with Machine Learning using Python to understand how your posts can get more reach on Instagram."
   ]
  },
  {
   "cell_type": "code",
   "execution_count": null,
   "metadata": {},
   "outputs": [],
   "source": [
    "# Import libraries\n",
    "import re\n",
    "import numpy as np\n",
    "import pandas as pd\n",
    "import seaborn as sns\n",
    "import matplotlib.pyplot as plt\n",
    "from wordcloud import WordCloud, STOPWORDS \n",
    "from sklearn.preprocessing import StandardScaler\n",
    "from sklearn.model_selection import train_test_split\n",
    "from sklearn.ensemble import GradientBoostingRegressor"
   ]
  },
  {
   "cell_type": "code",
   "execution_count": null,
   "metadata": {},
   "outputs": [],
   "source": [
    "# Read dataset\n",
    "data = pd.read_csv(\"Dataset.csv\")"
   ]
  },
  {
   "cell_type": "code",
   "execution_count": null,
   "metadata": {},
   "outputs": [],
   "source": [
    "# Display information about the dataset\n",
    "data.info()"
   ]
  },
  {
   "cell_type": "code",
   "execution_count": null,
   "metadata": {},
   "outputs": [],
   "source": [
    "stopwords = set(STOPWORDS) \n",
    "stopwords.add('will')\n",
    "sns.set()\n",
    "plt.style.use('seaborn-whitegrid') # Optional"
   ]
  },
  {
   "cell_type": "code",
   "execution_count": null,
   "metadata": {},
   "outputs": [],
   "source": [
    "def WordCloudPlotter(dfColumn):\n",
    "    colData = data[dfColumn]\n",
    "    textCloud = ''\n",
    "    \n",
    "    for mem in colData:\n",
    "        textCloud = textCloud + str(mem)\n",
    "    \n",
    "    # plotting word cloud\n",
    "    wordcloud = WordCloud(width = 800, height = 800,background_color ='white', \n",
    "                          stopwords = stopwords,  min_font_size = 10).generate(textCloud)\n",
    "    plt.figure(figsize = (8, 8), facecolor = None) # Create figure\n",
    "    plt.style.use('seaborn-whitegrid') #Optional\n",
    "    plt.imshow(wordcloud) # Display image\n",
    "    plt.rcParams.update({'font.size': 25})\n",
    "    plt.axis(\"off\") \n",
    "    plt.title('Word Cloud: ' + str(dfColumn)) # Title window\n",
    "    plt.tight_layout(pad = 0) \n",
    "  \n",
    "    plt.show() # Display"
   ]
  },
  {
   "cell_type": "code",
   "execution_count": null,
   "metadata": {},
   "outputs": [],
   "source": [
    "WordCloudPlotter('Caption') # Search for Caption"
   ]
  },
  {
   "cell_type": "code",
   "execution_count": null,
   "metadata": {},
   "outputs": [],
   "source": [
    "WordCloudPlotter('Hashtags') # Search for Hashtags"
   ]
  },
  {
   "cell_type": "code",
   "execution_count": null,
   "metadata": {},
   "outputs": [],
   "source": [
    "def PlotData(features):\n",
    "    plt.figure(figsize= (20, 10)) # Create figure\n",
    "    pltNum = 1\n",
    "    for mem in features:\n",
    "        plt.subplot(1, 2 , pltNum) # Size of thr figure\n",
    "        plt.style.use('seaborn-whitegrid') # Optional\n",
    "        plt.grid(True) # Optional\n",
    "        plt.title('Regplot Plot for '+ str(mem)) # Title window\n",
    "        sns.regplot(data = data, x = mem, y = 'Likes' , color = 'green')\n",
    "        pltNum += 1\n",
    "    \n",
    "    plt.show()"
   ]
  },
  {
   "cell_type": "code",
   "execution_count": null,
   "metadata": {},
   "outputs": [],
   "source": [
    "PlotData(['Followers', 'Time since posted'])"
   ]
  },
  {
   "cell_type": "code",
   "execution_count": null,
   "metadata": {},
   "outputs": [],
   "source": [
    "\n",
    "features = np.array(data[['Followers', 'Time since posted']], dtype = 'float32')\n",
    "targets = np.array(data['Likes'], dtype = 'float32')\n",
    "maxValLikes = max(targets)\n",
    "print('Max value of target is {}'.format(maxValLikes))"
   ]
  },
  {
   "cell_type": "code",
   "execution_count": null,
   "metadata": {},
   "outputs": [],
   "source": [
    "targets = targets/maxValLikes"
   ]
  },
  {
   "cell_type": "code",
   "execution_count": null,
   "metadata": {},
   "outputs": [],
   "source": [
    "# Split the Data into Train and Test\n",
    "xTrain, xTest, yTrain, yTest = train_test_split(features, targets, test_size = 0.1, random_state = 42)"
   ]
  },
  {
   "cell_type": "code",
   "execution_count": null,
   "metadata": {},
   "outputs": [],
   "source": [
    "# Normalization\n",
    "stdSc = StandardScaler()\n",
    "xTrain = stdSc.fit_transform(xTrain)\n",
    "xTest = stdSc.transform(xTest)"
   ]
  },
  {
   "cell_type": "code",
   "execution_count": null,
   "metadata": {},
   "outputs": [],
   "source": [
    "gbr = GradientBoostingRegressor()\n",
    "gbr.fit(xTrain, yTrain)"
   ]
  },
  {
   "cell_type": "code",
   "execution_count": null,
   "metadata": {},
   "outputs": [],
   "source": [
    "predictions = gbr.predict(xTest)\n",
    "plt.scatter(yTest, predictions)\n",
    "plt.style.use('seaborn-whitegrid')\n",
    "plt.xlabel('true values')\n",
    "plt.ylabel('predicted values')\n",
    "plt.title('GradientRegressor')\n",
    "plt.plot(np.arange(0,0.4, 0.01), np.arange(0, 0.4, 0.01), color = 'green')\n",
    "plt.grid(True)"
   ]
  },
  {
   "cell_type": "code",
   "execution_count": null,
   "metadata": {},
   "outputs": [],
   "source": [
    "def PredictFollowers(model, followerCount, scaller, maxVal):\n",
    "    followers = followerCount * np.ones(24)\n",
    "    hours = np.arange(1, 25)\n",
    "    \n",
    "    # Defining vector \n",
    "    featureVector = np.zeros((24, 2))\n",
    "    featureVector[:, 0] = followers\n",
    "    featureVector [:, 1] = hours\n",
    "    \n",
    "    # Doing scalling\n",
    "    featureVector = scaller.transform(featureVector)\n",
    "    predictions = model.predict(featureVector)\n",
    "    predictions = (maxValLikes * predictions).astype('int')\n",
    "    \n",
    "    plt.figure(figsize= (10, 10))\n",
    "    plt.plot(hours, predictions)\n",
    "    plt.style.use('seaborn-whitegrid')\n",
    "    plt.scatter(hours, predictions, color = 'g')\n",
    "    plt.grid(True)\n",
    "    plt.xlabel('hours since posted')\n",
    "    plt.ylabel('Likes')\n",
    "    plt.title('Likes progression with ' + str(followerCount) +' followers')\n",
    "    plt.show()"
   ]
  },
  {
   "cell_type": "code",
   "execution_count": null,
   "metadata": {},
   "outputs": [],
   "source": [
    "# likes progression for 100 followers\n",
    "PredictFollowers(gbr, 100, stdSc, maxValLikes)"
   ]
  },
  {
   "cell_type": "code",
   "execution_count": null,
   "metadata": {},
   "outputs": [],
   "source": [
    "# likes progression for 200 followers\n",
    "PredictFollowers(gbr, 200, stdSc, maxValLikes)"
   ]
  },
  {
   "cell_type": "code",
   "execution_count": null,
   "metadata": {},
   "outputs": [],
   "source": [
    "# Like progression for 1000 followers\n",
    "PredictFollowers(gbr, 1000, stdSc, maxValLikes)"
   ]
  }
 ],
 "metadata": {
  "kernelspec": {
   "display_name": "Python 3.10.5 64-bit",
   "language": "python",
   "name": "python3"
  },
  "language_info": {
   "codemirror_mode": {
    "name": "ipython",
    "version": 3
   },
   "file_extension": ".py",
   "mimetype": "text/x-python",
   "name": "python",
   "nbconvert_exporter": "python",
   "pygments_lexer": "ipython3",
   "version": "3.10.5"
  },
  "orig_nbformat": 4,
  "vscode": {
   "interpreter": {
    "hash": "26de051ba29f2982a8de78e945f0abaf191376122a1563185a90213a26c5da77"
   }
  }
 },
 "nbformat": 4,
 "nbformat_minor": 2
}
